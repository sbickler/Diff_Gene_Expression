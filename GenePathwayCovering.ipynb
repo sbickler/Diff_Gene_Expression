{
  "nbformat": 4,
  "nbformat_minor": 0,
  "metadata": {
    "colab": {
      "name": "GenePathwayCovering.ipynb",
      "provenance": [],
      "include_colab_link": true
    },
    "kernelspec": {
      "name": "python3",
      "display_name": "Python 3"
    }
  },
  "cells": [
    {
      "cell_type": "markdown",
      "metadata": {
        "id": "view-in-github",
        "colab_type": "text"
      },
      "source": [
        "<a href=\"https://colab.research.google.com/github/sbickler/Diff_Gene_Expression/blob/master/GenePathwayCovering.ipynb\" target=\"_parent\"><img src=\"https://colab.research.google.com/assets/colab-badge.svg\" alt=\"Open In Colab\"/></a>"
      ]
    },
    {
      "cell_type": "markdown",
      "metadata": {
        "id": "AYVno_yWhilc",
        "colab_type": "text"
      },
      "source": [
        "# Input and Output Data Structures\n",
        "\n",
        "*   ***pathways***: a dictionary (P -> S) which describes a set of genes S which are involved in a pathway P\n",
        "*   ***genes***: a dictionary (G -> S) which describes a set of pathways S which contain a gene G\n",
        "*   ***covering***: the set which approximates the smallest collection of genes that can produce a span which contains all pathways \n",
        "\n",
        "Given a ***pathways*** or ***genes*** object as an input, the other respective data structure can be easily created with $O(P + E)$ or $O(G + E)$ time complexity, with $P$, $G$, and $E$ denoting the number of pathways, genes, and edges.\n",
        "\n",
        "The ***pathways*** object serves a double purpose to store only the pathways which are not yet included in the span. Similarly, the ***genes*** object only stores genes which are not included in ***covering***.\n",
        "\n",
        "NOTE: to avoid confusion all italicized, bolded words refer to the objects themselves\n"
      ]
    },
    {
      "cell_type": "code",
      "metadata": {
        "id": "DYO0I53lvagw",
        "colab_type": "code",
        "colab": {}
      },
      "source": [
        "pathways = {\"A\": {1, 2, 3, 4},\n",
        "            \"B\": {1, 4},\n",
        "            \"C\": {2, 3},\n",
        "            \"D\": {1},\n",
        "            \"E\": {3, 4},\n",
        "            \"F\": {1}}\n",
        "\n",
        "genes = {1: {\"A\", \"B\", \"D\", \"F\"},\n",
        "         2: {\"A\", \"C\"},\n",
        "         3: {\"A\", \"C\", \"E\"},\n",
        "         4: {\"A\", \"B\", \"E\"}}\n",
        "\n",
        "covering = set()"
      ],
      "execution_count": null,
      "outputs": []
    },
    {
      "cell_type": "code",
      "metadata": {
        "id": "xu9n3uQgw3oO",
        "colab_type": "code",
        "colab": {}
      },
      "source": [
        "'''Converts pathways to genes or vica versa.'''\n",
        "def convert(input):\n",
        "  output = {}\n",
        "  for key in input:\n",
        "    value_set = input[key]\n",
        "    for value in value_set:\n",
        "      if output.get(value) == None:\n",
        "        output[value] = set()\n",
        "      output[value].add(key)\n",
        "  return output"
      ],
      "execution_count": null,
      "outputs": []
    },
    {
      "cell_type": "markdown",
      "metadata": {
        "id": "y9Uu0wYLgzw9",
        "colab_type": "text"
      },
      "source": [
        "# Pseudocode\n",
        "\n",
        "1.   Search for pathways which only are associated with a single gene\n",
        "2.   If such pathways are found, then \n",
        "\n",
        "    a) the genes associated with those pathways must be used in the span\n",
        "\n",
        "    b) genes are added to the covering and removed from ***genes***\n",
        "\n",
        "    c) any other pathways associated with the genes are already included in the span and can also be removed from search by removing them from ***pathways***\n",
        "\n",
        "3.   Greedy algorithm begins\n",
        "\n",
        "    a) a greedy search finds the gene with the greatest number of associated pathways not yet contained in the span i.e. remaining in ***genes***\n",
        "\n",
        "    b) the gene is added to the covering and removed from ***genes***\n",
        "    \n",
        "    c) any other pathways associated with the gene are removed similar to step 2c)\n",
        "\n",
        "    d) repeat step 3 until all pathways are removed"
      ]
    },
    {
      "cell_type": "code",
      "metadata": {
        "id": "-eeF7tqIwXih",
        "colab_type": "code",
        "colab": {
          "base_uri": "https://localhost:8080/",
          "height": 35
        },
        "outputId": "5cf20e51-6696-4d9d-afb4-80a0bc24d134"
      },
      "source": [
        "# Step 1\n",
        "temp_genes = set()\n",
        "for p in pathways:\n",
        "  g = pathways[p]\n",
        "  if len(g) == 1:\n",
        "    temp_genes.update(g)\n",
        "\n",
        "# Step 2\n",
        "if len(temp_genes) != 0:\n",
        "  covering.update(temp_genes)\n",
        "  for g in temp_genes:\n",
        "    del genes[g]\n",
        "  for p in list(pathways.keys()):\n",
        "    if len(temp_genes.intersection(pathways[p])) > 0:\n",
        "      del pathways[p]\n",
        "\n",
        "# Step 3\n",
        "while bool(pathways):\n",
        "  remaining = set(pathways.keys())\n",
        "  temp_gene = None\n",
        "  max_count = 0\n",
        "  for g in genes:\n",
        "    p = genes[g]\n",
        "    overlap = len(remaining.intersection(p))\n",
        "    if overlap > max_count:\n",
        "      max_count = overlap\n",
        "      temp_gene = g\n",
        "  if temp_gene == None:\n",
        "    raise Exception(\"No solution.\")\n",
        "  else:\n",
        "    covering.add(temp_gene)\n",
        "    del genes[temp_gene]\n",
        "    for p in list(pathways.keys()):\n",
        "      if temp_gene in pathways[p]:\n",
        "        del pathways[p]\n",
        "\n",
        "print(covering)"
      ],
      "execution_count": null,
      "outputs": [
        {
          "output_type": "stream",
          "text": [
            "{1, 3}\n"
          ],
          "name": "stdout"
        }
      ]
    },
    {
      "cell_type": "markdown",
      "metadata": {
        "id": "AfGYmr1uw-SC",
        "colab_type": "text"
      },
      "source": [
        "# Algorithm Details\n",
        "\n",
        "A brute force algorithm which finds the exact, optimal collection of genes which can span all pathways has an exponential complexity. Thus, for large datasets, the only feasible way to solve this problem is through approximation via the greedy algorithm.\n",
        "\n",
        "At each step, the greedy algorithm selects the gene which is associated with the most pathways not yet contained in the span. Of course, this may not always result in the most optimal solultion but is significantly less computationally taxing compared to a brute force approach. As the size of the dataset increases, the greedy approximation is more accurate relative to smaller datasets.\n",
        "\n",
        "Steps 1 and 2 are designed to improve upon the approximation by identifying the cases in which specific genes MUST be included to span all pathways. This occurs when there is only a single linkage, or association, between a particular gene and pathway. While the exact probability of this occuring is difficult to compute, it is clear that this approximation improvement becomes less effective for larger datasets as the probability that at least one occurance of this event decreases. "
      ]
    }
  ]
}